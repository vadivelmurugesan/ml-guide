{
 "cells": [
  {
   "cell_type": "markdown",
   "metadata": {},
   "source": [
    "# Foundational Models vs Cognitive Models\n",
    "\n",
    "This notebook shows simple examples of how Foundational Models (like GPT-2) and Cognitive Models (simple logic-based decision-making) work."
   ]
  },
  {
   "cell_type": "markdown",
   "metadata": {},
   "source": [
    "## Foundational Model using GPT-2"
   ]
  },
  {
   "cell_type": "code",
   "execution_count": null,
   "metadata": {},
   "outputs": [],
   "source": [
    "# Install required libraries\n",
    "!pip install transformers torch"
   ]
  },
  {
   "cell_type": "code",
   "execution_count": 4,
   "metadata": {},
   "outputs": [
    {
     "name": "stderr",
     "output_type": "stream",
     "text": [
      "The attention mask and the pad token id were not set. As a consequence, you may observe unexpected behavior. Please pass your input's `attention_mask` to obtain reliable results.\n",
      "Setting `pad_token_id` to `eos_token_id`:50256 for open-end generation.\n"
     ]
    },
    {
     "name": "stdout",
     "output_type": "stream",
     "text": [
      "Generated Text:\n",
      " Artificial intelligence is changing the world because it demands, as David Niehaus-Levin notes in his 2004 book \"What is Artificial Intelligence?\", that scientists should treat these predictions as if they have a real premise. He defines them as \"a\n"
     ]
    }
   ],
   "source": [
    "from transformers import GPT2Tokenizer, GPT2LMHeadModel\n",
    "import torch\n",
    "\n",
    "# Load tokenizer and model\n",
    "tokenizer = GPT2Tokenizer.from_pretrained(\"gpt2\")\n",
    "model = GPT2LMHeadModel.from_pretrained(\"gpt2\")\n",
    "\n",
    "# Provide input prompt\n",
    "prompt = \"Artificial intelligence is changing the world because\"\n",
    "inputs = tokenizer.encode(prompt, return_tensors=\"pt\")\n",
    "\n",
    "# Generate output text\n",
    "outputs = model.generate(inputs, max_length=50, do_sample=True)\n",
    "text = tokenizer.decode(outputs[0], skip_special_tokens=True)\n",
    "\n",
    "print(\"Generated Text:\\n\", text)"
   ]
  },
  {
   "cell_type": "markdown",
   "metadata": {},
   "source": [
    "## Simple Cognitive Model"
   ]
  },
  {
   "cell_type": "code",
   "execution_count": 5,
   "metadata": {},
   "outputs": [
    {
     "name": "stdout",
     "output_type": "stream",
     "text": [
      "Action: Order food\n"
     ]
    }
   ],
   "source": [
    "# Define memory and goal\n",
    "memory = {\n",
    "    \"hungry\": True,\n",
    "    \"food_in_fridge\": False,\n",
    "    \"money\": True,\n",
    "    \"delivery_open\": True\n",
    "}\n",
    "\n",
    "goal = \"eat\"\n",
    "\n",
    "# Define cognitive decision model\n",
    "def cognitive_model(memory, goal):\n",
    "    if goal == \"eat\":\n",
    "        if memory[\"food_in_fridge\"]:\n",
    "            return \"Eat at home\"\n",
    "        elif memory[\"delivery_open\"] and memory[\"money\"]:\n",
    "            return \"Order food\"\n",
    "        else:\n",
    "            return \"Go buy food\"\n",
    "    else:\n",
    "        return \"Do nothing\"\n",
    "\n",
    "# Run decision process\n",
    "action = cognitive_model(memory, goal)\n",
    "print(\"Action:\", action)"
   ]
  }
 ],
 "metadata": {
  "kernelspec": {
   "display_name": "3.9.23",
   "language": "python",
   "name": "python3"
  },
  "language_info": {
   "codemirror_mode": {
    "name": "ipython",
    "version": 3
   },
   "file_extension": ".py",
   "mimetype": "text/x-python",
   "name": "python",
   "nbconvert_exporter": "python",
   "pygments_lexer": "ipython3",
   "version": "3.9.23"
  }
 },
 "nbformat": 4,
 "nbformat_minor": 2
}
