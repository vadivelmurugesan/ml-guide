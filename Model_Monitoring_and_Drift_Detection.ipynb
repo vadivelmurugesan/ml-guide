{
 "cells": [
  {
   "cell_type": "markdown",
   "id": "e6357ccf",
   "metadata": {},
   "source": [
    "# Model Monitoring and Drift Detection\n",
    "\n",
    "In this hands-on guide, you’ll learn how to monitor a machine learning model in production and detect data drift.  \n",
    "You will:\n",
    "- Build a simple model using scikit-learn\n",
    "- Simulate data drift and see its impact\n",
    "- Detect drift and set alerts\n"
   ]
  },
  {
   "cell_type": "code",
   "execution_count": null,
   "id": "4dfa7010",
   "metadata": {},
   "outputs": [],
   "source": [
    "!pip install scikit-learn pandas matplotlib"
   ]
  },
  {
   "cell_type": "markdown",
   "id": "b8ee7329",
   "metadata": {},
   "source": [
    "- **scikit-learn**: For creating the ML model.\n",
    "- **pandas**: For data handling.\n",
    "- **matplotlib**: For visualization."
   ]
  },
  {
   "cell_type": "code",
   "execution_count": 2,
   "id": "6c2be20b",
   "metadata": {},
   "outputs": [],
   "source": [
    "import pandas as pd\n",
    "from sklearn.datasets import load_iris\n",
    "from sklearn.model_selection import train_test_split\n",
    "from sklearn.ensemble import RandomForestClassifier\n",
    "\n",
    "# Load Iris dataset\n",
    "data = load_iris()\n",
    "df = pd.DataFrame(data.data, columns=data.feature_names)\n",
    "df['target'] = data.target\n",
    "\n",
    "# Split data\n",
    "train, test = train_test_split(df, test_size=0.3, random_state=42)\n",
    "X_train, y_train = train[data.feature_names], train['target']\n",
    "X_test, y_test = test[data.feature_names], test['target']\n",
    "\n",
    "# Build model\n",
    "model = RandomForestClassifier(random_state=42)\n",
    "model.fit(X_train, y_train)\n",
    "\n",
    "# Make predictions\n",
    "test['prediction'] = model.predict(X_test)"
   ]
  },
  {
   "cell_type": "markdown",
   "id": "e19979cd",
   "metadata": {},
   "source": [
    "We trained a simple classifier on the classic Iris dataset. Next, let’s see how to monitor the data and predictions."
   ]
  },
  {
   "cell_type": "code",
   "execution_count": 10,
   "id": "9c36308c",
   "metadata": {},
   "outputs": [],
   "source": [
    "# Simulate drift by shuffling one feature in test data\n",
    "import numpy as np\n",
    "\n",
    "test_drifted = test.copy()\n",
    "np.random.seed(0)\n",
    "test_drifted['sepal length (cm)'] = np.random.permutation(test_drifted['sepal length (cm)'])\n",
    "\n",
    "# Predict with drifted data\n",
    "test_drifted['prediction'] = model.predict(test_drifted[data.feature_names])"
   ]
  },
  {
   "cell_type": "markdown",
   "id": "b85d1675",
   "metadata": {},
   "source": [
    "## Visualizing Feature Drift"
   ]
  },
  {
   "cell_type": "code",
   "execution_count": 14,
   "id": "8858343e",
   "metadata": {},
   "outputs": [
    {
     "data": {
      "image/png": "[encoded data removed]",
      "text/plain": [
       "<Figure size 1000x500 with 1 Axes>"
      ]
     },
     "metadata": {},
     "output_type": "display_data"
    }
   ],
   "source": [
    "import matplotlib.pyplot as plt\n",
    "\n",
    "feature = 'sepal length (cm)'\n",
    "plt.figure(figsize=(10,5))\n",
    "plt.hist(train[feature], bins=20, alpha=0.5, label='Train')\n",
    "plt.hist(test_drifted[feature], bins=20, alpha=0.5, label='Test Drifted')\n",
    "plt.title(f'Distribution of {feature} (Train vs Drifted Test)')\n",
    "plt.xlabel(feature)\n",
    "plt.ylabel('Frequency')\n",
    "plt.legend()\n",
    "plt.show()\n"
   ]
  },
  {
   "cell_type": "markdown",
   "id": "c4d1aab6",
   "metadata": {},
   "source": [
    "## Statistical Drift Detection (Kolmogorov-Smirnov Test)\n"
   ]
  },
  {
   "cell_type": "code",
   "execution_count": 15,
   "id": "429d7d82",
   "metadata": {},
   "outputs": [
    {
     "name": "stdout",
     "output_type": "stream",
     "text": [
      "KS Statistic: 0.070, p-value: 0.9952\n",
      "No significant drift in 'sepal length (cm)' (p >= 0.05)\n"
     ]
    }
   ],
   "source": [
    "from scipy.stats import ks_2samp\n",
    "\n",
    "def check_ks_drift(reference, current, feature, alpha=0.05):\n",
    "    stat, p_value = ks_2samp(reference[feature], current[feature])\n",
    "    print(f\"KS Statistic: {stat:.3f}, p-value: {p_value:.4f}\")\n",
    "    if p_value < alpha:\n",
    "        print(f\"Drift detected in '{feature}' (p < {alpha})\")\n",
    "    else:\n",
    "        print(f\"No significant drift in '{feature}' (p >= {alpha})\")\n",
    "\n",
    "check_ks_drift(train, test_drifted, feature)\n"
   ]
  },
  {
   "cell_type": "markdown",
   "id": "2ac8a0b7",
   "metadata": {},
   "source": [
    "## Monitoring Model Performance Drift"
   ]
  },
  {
   "cell_type": "code",
   "execution_count": 17,
   "id": "cdc1bd9b",
   "metadata": {},
   "outputs": [
    {
     "name": "stdout",
     "output_type": "stream",
     "text": [
      "Original Test Accuracy: 1.00, F1 Score: 1.00\n",
      "Drifted Test Accuracy: 1.00, F1 Score: 1.00\n"
     ]
    }
   ],
   "source": [
    "from sklearn.metrics import accuracy_score, f1_score\n",
    "\n",
    "# Evaluate performance on original test\n",
    "acc_orig = accuracy_score(y_test, test['prediction'])\n",
    "f1_orig = f1_score(y_test, test['prediction'], average='macro')\n",
    "\n",
    "# Evaluate on drifted test\n",
    "acc_drift = accuracy_score(y_test, test_drifted['prediction'])\n",
    "f1_drift = f1_score(y_test, test_drifted['prediction'], average='macro')\n",
    "\n",
    "print(f\"Original Test Accuracy: {acc_orig:.2f}, F1 Score: {f1_orig:.2f}\")\n",
    "print(f\"Drifted Test Accuracy: {acc_drift:.2f}, F1 Score: {f1_drift:.2f}\")\n"
   ]
  },
  {
   "cell_type": "markdown",
   "id": "c49ac093",
   "metadata": {},
   "source": [
    "## Set Simple Alerting"
   ]
  },
  {
   "cell_type": "code",
   "execution_count": 19,
   "id": "0753907d",
   "metadata": {},
   "outputs": [
    {
     "name": "stdout",
     "output_type": "stream",
     "text": [
      "Model accuracy is stable.\n"
     ]
    }
   ],
   "source": [
    "# Set a threshold for accuracy drop (e.g., drop > 0.1)\n",
    "threshold = 0.1\n",
    "if acc_orig - acc_drift > threshold:\n",
    "    print(\"ALERT: Significant accuracy drop detected!\")\n",
    "else:\n",
    "    print(\"Model accuracy is stable.\")\n"
   ]
  },
  {
   "cell_type": "markdown",
   "id": "a055bd6b",
   "metadata": {},
   "source": [
    "Set up a system to generate and store reports. Review them regularly or trigger alerts automatically."
   ]
  },
  {
   "cell_type": "markdown",
   "id": "478e4fc9",
   "metadata": {},
   "source": [
    "**Best Practices:**\n",
    "- Always monitor both data and model performance.\n",
    "- Automate monitoring and alerting.\n",
    "- Regularly retrain models if drift is detected.\n",
    "- Document everything—monitoring config, thresholds, drift response.\n",
    "\n",
    "**References:**  \n",
    "- https://scikit-learn.org/"
   ]
  }
 ],
 "metadata": {
  "kernelspec": {
   "display_name": "3.9.23",
   "language": "python",
   "name": "python3"
  },
  "language_info": {
   "codemirror_mode": {
    "name": "ipython",
    "version": 3
   },
   "file_extension": ".py",
   "mimetype": "text/x-python",
   "name": "python",
   "nbconvert_exporter": "python",
   "pygments_lexer": "ipython3",
   "version": "3.9.23"
  }
 },
 "nbformat": 4,
 "nbformat_minor": 5
}
